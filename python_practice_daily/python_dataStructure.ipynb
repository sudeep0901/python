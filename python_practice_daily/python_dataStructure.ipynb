{
 "cells": [
  {
   "cell_type": "code",
   "execution_count": 75,
   "metadata": {},
   "outputs": [
    {
     "data": {
      "text/plain": [
       "['A', 'C', 'B', 'Z', 'R', 'N']"
      ]
     },
     "execution_count": 75,
     "metadata": {},
     "output_type": "execute_result"
    }
   ],
   "source": [
    "lst  = ['A', 'C', 'B', 'Z', 'R']\n",
    "lst.append('N')\n",
    "lst"
   ]
  },
  {
   "cell_type": "code",
   "execution_count": 78,
   "metadata": {},
   "outputs": [
    {
     "name": "stdout",
     "output_type": "stream",
     "text": [
      "['A', 'B', 'BAC', 'BAC', 'C', 'N', 'R', 'Z']\n",
      "108058264 108058264\n"
     ]
    }
   ],
   "source": [
    "lst.sort()\n",
    "lst1 = lst\n",
    "print(lst1)\n",
    "print(id(lst), id(lst1))\n",
    "lst.append(\"BAC\")"
   ]
  },
  {
   "cell_type": "code",
   "execution_count": 87,
   "metadata": {},
   "outputs": [
    {
     "name": "stdout",
     "output_type": "stream",
     "text": [
      "['A', 'B', 'BAC', 'BAC', 'C', 'N', 'R', 'Z', 'BAC']\n",
      "108058264 108058264\n",
      "112243936 112243936\n"
     ]
    },
    {
     "data": {
      "text/plain": [
       "str"
      ]
     },
     "execution_count": 87,
     "metadata": {},
     "output_type": "execute_result"
    }
   ],
   "source": [
    "print(lst1)\n",
    "print(id(lst), id(lst1))\n",
    "len(lst) \n",
    "len(lst1)\n",
    "print(id(lst[8]), id(lst1[8]))\n",
    "type(lst)\n",
    "type(lst[0])"
   ]
  },
  {
   "cell_type": "code",
   "execution_count": 91,
   "metadata": {},
   "outputs": [
    {
     "name": "stdout",
     "output_type": "stream",
     "text": [
      "BAC\n",
      "BAC\n",
      "C\n",
      "N\n",
      "R\n",
      "Z\n",
      "BAC\n"
     ]
    }
   ],
   "source": [
    "for item in lst:\n",
    "    print(item)\n",
    "del lst[0]"
   ]
  },
  {
   "cell_type": "code",
   "execution_count": 100,
   "metadata": {},
   "outputs": [
    {
     "ename": "IndexError",
     "evalue": "list index out of range",
     "output_type": "error",
     "traceback": [
      "\u001b[1;31m---------------------------------------------------------------------------\u001b[0m",
      "\u001b[1;31mIndexError\u001b[0m                                Traceback (most recent call last)",
      "\u001b[1;32m<ipython-input-100-d3e75086085c>\u001b[0m in \u001b[0;36m<module>\u001b[1;34m\u001b[0m\n\u001b[1;32m----> 1\u001b[1;33m \u001b[0molditem\u001b[0m \u001b[1;33m=\u001b[0m \u001b[0mlst\u001b[0m\u001b[1;33m[\u001b[0m\u001b[1;36m5\u001b[0m\u001b[1;33m]\u001b[0m\u001b[1;33m\u001b[0m\u001b[0m\n\u001b[0m\u001b[0;32m      2\u001b[0m \u001b[1;32mdel\u001b[0m \u001b[0mlst\u001b[0m\u001b[1;33m[\u001b[0m\u001b[1;36m5\u001b[0m\u001b[1;33m]\u001b[0m\u001b[1;33m\u001b[0m\u001b[0m\n\u001b[0;32m      3\u001b[0m \u001b[0mprint\u001b[0m\u001b[1;33m(\u001b[0m\u001b[0molditem\u001b[0m\u001b[1;33m)\u001b[0m\u001b[1;33m\u001b[0m\u001b[0m\n",
      "\u001b[1;31mIndexError\u001b[0m: list index out of range"
     ]
    }
   ],
   "source": [
    "olditem = lst[5]\n",
    "del lst[5]\n"
   ]
  },
  {
   "cell_type": "code",
   "execution_count": 125,
   "metadata": {},
   "outputs": [
    {
     "name": "stdout",
     "output_type": "stream",
     "text": [
      "<class 'str'>\n",
      "values does not exists\n"
     ]
    },
    {
     "data": {
      "text/plain": [
       "['__add__',\n",
       " '__class__',\n",
       " '__contains__',\n",
       " '__delattr__',\n",
       " '__delitem__',\n",
       " '__dir__',\n",
       " '__doc__',\n",
       " '__eq__',\n",
       " '__format__',\n",
       " '__ge__',\n",
       " '__getattribute__',\n",
       " '__getitem__',\n",
       " '__gt__',\n",
       " '__hash__',\n",
       " '__iadd__',\n",
       " '__imul__',\n",
       " '__init__',\n",
       " '__init_subclass__',\n",
       " '__iter__',\n",
       " '__le__',\n",
       " '__len__',\n",
       " '__lt__',\n",
       " '__mul__',\n",
       " '__ne__',\n",
       " '__new__',\n",
       " '__reduce__',\n",
       " '__reduce_ex__',\n",
       " '__repr__',\n",
       " '__reversed__',\n",
       " '__rmul__',\n",
       " '__setattr__',\n",
       " '__setitem__',\n",
       " '__sizeof__',\n",
       " '__str__',\n",
       " '__subclasshook__',\n",
       " 'append',\n",
       " 'clear',\n",
       " 'copy',\n",
       " 'count',\n",
       " 'extend',\n",
       " 'index',\n",
       " 'insert',\n",
       " 'pop',\n",
       " 'remove',\n",
       " 'reverse',\n",
       " 'sort']"
      ]
     },
     "execution_count": 125,
     "metadata": {},
     "output_type": "execute_result"
    }
   ],
   "source": [
    "print(type(olditem))\n",
    "lst\n",
    "try:\n",
    "    lst.index('100')\n",
    "except ValueError:\n",
    "    print(\"values does not exists\")\n",
    "\n",
    "# lst.anatribute\n",
    "dir(lst)\n"
   ]
  },
  {
   "cell_type": "code",
   "execution_count": 138,
   "metadata": {},
   "outputs": [
    {
     "data": {
      "text/plain": [
       "12"
      ]
     },
     "execution_count": 138,
     "metadata": {},
     "output_type": "execute_result"
    }
   ],
   "source": [
    "lst.append('C')\n",
    "lst.count('C')"
   ]
  },
  {
   "cell_type": "code",
   "execution_count": 145,
   "metadata": {},
   "outputs": [
    {
     "name": "stdout",
     "output_type": "stream",
     "text": [
      "['BAC', 'C', 'N', 'R', 'Z', 'C', 'C', 'C', 'C', 'C', 'C', 'C', 'C', 'C', 'C', 'C']\n",
      "1\n",
      "1\n"
     ]
    }
   ],
   "source": [
    "print(lst)\n",
    "print(lst.index('C'))\n",
    "print(lst.index('C', 0, 2))"
   ]
  },
  {
   "cell_type": "code",
   "execution_count": 167,
   "metadata": {},
   "outputs": [
    {
     "name": "stdout",
     "output_type": "stream",
     "text": [
      "109875408 108058264\n",
      "['BAC', 'C', 'N', 'R', 'Z', 'C', 'C', 'C', 'C', 'C', 'C', 'C', 'C', 'C', 'C', 'Sudeep']\n",
      "['BAC', 'C', 'N', 'R', 'Z', 'C', 'C', 'C', 'C', 'C', 'C', 'C', 'C', 'C', 'C', 'Sudeep']\n",
      "['BAC', 'C', 'N', 'R', 'Z', 'C', 'C', 'C', 'C', 'C', 'C', 'C', 'C', 'C', 'C', 'Sudeep']\n",
      "['BAC', 'C', 'N', 'R', 'Z', 'C', 'C', 'C', 'C', 'C', 'C', 'C', 'C', 'C', 'C', 'Sudeep']\n"
     ]
    }
   ],
   "source": [
    "newList = lst.copy()\n",
    "print(id(newList), id(lst))\n",
    "print(lst)\n",
    "print(newList)\n",
    "lst[len(lst) - 1] = \"Sudeep\"\n",
    "print(lst)\n",
    "print(newList)"
   ]
  },
  {
   "cell_type": "code",
   "execution_count": 173,
   "metadata": {},
   "outputs": [
    {
     "name": "stdout",
     "output_type": "stream",
     "text": [
      "['Error', '__all__', '__builtins__', '__cached__', '__doc__', '__file__', '__loader__', '__name__', '__package__', '__spec__', '_copy_dispatch', '_copy_immutable', '_deepcopy_atomic', '_deepcopy_dict', '_deepcopy_dispatch', '_deepcopy_list', '_deepcopy_method', '_deepcopy_tuple', '_keep_alive', '_reconstruct', 'copy', 'deepcopy', 'dispatch_table', 'error']\n"
     ]
    }
   ],
   "source": [
    "import copy\n",
    "\n",
    "print(dir(copy))\n",
    "deepcopyied = copy.deepcopy(lst)"
   ]
  },
  {
   "cell_type": "code",
   "execution_count": 176,
   "metadata": {},
   "outputs": [
    {
     "data": {
      "text/plain": [
       "{'BAC', 'C', 'N', 'R', 'Sudeep', 'Z'}"
      ]
     },
     "execution_count": 176,
     "metadata": {},
     "output_type": "execute_result"
    }
   ],
   "source": [
    "uniqueElement =  set(lst)\n",
    "uniqueElement"
   ]
  },
  {
   "cell_type": "code",
   "execution_count": 196,
   "metadata": {},
   "outputs": [
    {
     "name": "stdout",
     "output_type": "stream",
     "text": [
      "deque(['SUDEEP', 'MANASVI', 'GUDIYA'])\n",
      "deque(['SUDEEP', 'MANASVI', 'GUDIYA', 'Terry', 'graham', 'graham'])\n"
     ]
    }
   ],
   "source": [
    "# 5.1.2. Using Lists as Queues\n",
    "from collections import deque\n",
    "\n",
    "queue = deque([\"SUDEEP\", \"MANASVI\", \"GUDIYA\"])\n",
    "print(queue)\n",
    "queue.append(\"Terry\")\n",
    "queue.append(\"graham\")\n",
    "queue.append(\"graham\")\n",
    "print(queue)"
   ]
  },
  {
   "cell_type": "code",
   "execution_count": 193,
   "metadata": {},
   "outputs": [
    {
     "name": "stdout",
     "output_type": "stream",
     "text": [
      "deque(['SUDEEP', 'MANASVI'])\n"
     ]
    },
    {
     "data": {
      "text/plain": [
       "'MANASVI'"
      ]
     },
     "execution_count": 193,
     "metadata": {},
     "output_type": "execute_result"
    }
   ],
   "source": [
    "# dir(deque)\n",
    "print(queue)\n",
    "queue.popleft()\n",
    "queue.pop()"
   ]
  },
  {
   "cell_type": "code",
   "execution_count": 218,
   "metadata": {},
   "outputs": [
    {
     "data": {
      "text/plain": [
       "deque(['GUDIYA', 'Terry', 'graham', 'graham', 'SUDEEP', 'MANASVI'])"
      ]
     },
     "execution_count": 218,
     "metadata": {},
     "output_type": "execute_result"
    }
   ],
   "source": [
    "queue.rotate()\n",
    "queue"
   ]
  },
  {
   "cell_type": "code",
   "execution_count": 269,
   "metadata": {},
   "outputs": [],
   "source": [
    "squares = list(map(lambda x: x*2, range(1, 10)))\n",
    "squares\n",
    "que = deque(string)\n",
    "\n"
   ]
  },
  {
   "cell_type": "code",
   "execution_count": 249,
   "metadata": {},
   "outputs": [
    {
     "name": "stdout",
     "output_type": "stream",
     "text": [
      "capitalize\n",
      "casefold\n",
      "center\n",
      "count\n",
      "encode\n",
      "endswith\n",
      "expandtabs\n",
      "find\n",
      "format\n",
      "format_map\n",
      "index\n",
      "isalnum\n",
      "isalpha\n",
      "isdecimal\n",
      "isdigit\n",
      "isidentifier\n",
      "islower\n",
      "isnumeric\n",
      "isprintable\n",
      "isspace\n",
      "istitle\n",
      "isupper\n",
      "join\n",
      "ljust\n",
      "lower\n",
      "lstrip\n",
      "maketrans\n",
      "partition\n",
      "replace\n",
      "rfind\n",
      "rindex\n",
      "rjust\n",
      "rpartition\n",
      "rsplit\n",
      "rstrip\n",
      "split\n",
      "splitlines\n",
      "startswith\n",
      "strip\n",
      "swapcase\n",
      "title\n",
      "translate\n",
      "upper\n",
      "zfill\n"
     ]
    }
   ],
   "source": [
    "string = \"Sudeep Patel how are you\"\n",
    "dir(string)\n",
    "\n",
    "for func in dir(string):\n",
    "    if \"__\" not in func:\n",
    "        print(func)\n"
   ]
  },
  {
   "cell_type": "code",
   "execution_count": 312,
   "metadata": {},
   "outputs": [
    {
     "name": "stdout",
     "output_type": "stream",
     "text": [
      "True\n",
      "False\n",
      "110939776 110939680\n",
      "deque(['p', ' ', 'P', 'a', 't', 'e', 'l', ' ', 'h', 'o', 'w', ' ', 'a', 'r', 'e', ' ', 'y', 'o', 'u', 'S', 'u', 'd', 'e', 'e'])\n"
     ]
    }
   ],
   "source": [
    "string.count(\"e\")\n",
    "s1 = 'foo!'\n",
    "s2 = 'foo!'\n",
    "\n",
    "print(s1 == s2)\n",
    "print(s1 is s2)\n",
    "print(id(s1), id(s2))\n",
    "que.rotate()\n",
    "print(que)"
   ]
  },
  {
   "cell_type": "code",
   "execution_count": 329,
   "metadata": {},
   "outputs": [
    {
     "name": "stdout",
     "output_type": "stream",
     "text": [
      "True\n",
      "foo!\n",
      "True\n"
     ]
    }
   ],
   "source": [
    "import sys\n",
    "string1 = None\n",
    "print(string1 is None)\n",
    "s1 = sys.intern(('foo!'))\n",
    "print(s1)\n",
    "s2 = sys.intern('foo!')\n",
    "print(s1 == s2)\n",
    "interned = {}\n",
    "type(interned)\n",
    "\n",
    "from collections import Counter\n"
   ]
  },
  {
   "cell_type": "code",
   "execution_count": 333,
   "metadata": {},
   "outputs": [
    {
     "name": "stdout",
     "output_type": "stream",
     "text": [
      "Counter({'o': 2, 'f': 1, '!': 1})\n",
      "dict_keys(['f', 'o', '!'])\n",
      "dict_values([1, 2, 1])\n"
     ]
    }
   ],
   "source": [
    "print(Counter(s1))\n",
    "print(Counter(s1).keys())\n",
    "print(Counter(s1).values())"
   ]
  },
  {
   "cell_type": "code",
   "execution_count": 338,
   "metadata": {},
   "outputs": [
    {
     "data": {
      "text/plain": [
       "'AHelloBHelloCHelloD'"
      ]
     },
     "execution_count": 338,
     "metadata": {},
     "output_type": "execute_result"
    }
   ],
   "source": [
    "abcd = ['A', 'B' , 'C' ,'D']\n",
    "'Hello'.join(abcd)"
   ]
  },
  {
   "cell_type": "code",
   "execution_count": 358,
   "metadata": {},
   "outputs": [],
   "source": [
    "it = iter(abcd)\n"
   ]
  },
  {
   "cell_type": "code",
   "execution_count": 367,
   "metadata": {},
   "outputs": [
    {
     "name": "stdout",
     "output_type": "stream",
     "text": [
      "No more element exists to access\n"
     ]
    }
   ],
   "source": [
    "try:\n",
    "    next(it)\n",
    "except StopIteration:\n",
    "    print(\"No more element exists to access\")"
   ]
  },
  {
   "cell_type": "code",
   "execution_count": 368,
   "metadata": {},
   "outputs": [
    {
     "data": {
      "text/plain": [
       "'₹1,500.00'"
      ]
     },
     "execution_count": 368,
     "metadata": {},
     "output_type": "execute_result"
    }
   ],
   "source": [
    "from babel import numbers \n",
    "numbers.format_currency('1500', 'INR',locale='en')"
   ]
  },
  {
   "cell_type": "code",
   "execution_count": 370,
   "metadata": {},
   "outputs": [
    {
     "data": {
      "text/plain": [
       "['Locale',\n",
       " 'UnknownLocaleError',\n",
       " '__builtins__',\n",
       " '__cached__',\n",
       " '__doc__',\n",
       " '__file__',\n",
       " '__loader__',\n",
       " '__name__',\n",
       " '__package__',\n",
       " '__path__',\n",
       " '__spec__',\n",
       " '__version__',\n",
       " '_compat',\n",
       " 'core',\n",
       " 'dates',\n",
       " 'default_locale',\n",
       " 'get_locale_identifier',\n",
       " 'localedata',\n",
       " 'localtime',\n",
       " 'negotiate_locale',\n",
       " 'numbers',\n",
       " 'parse_locale',\n",
       " 'plural',\n",
       " 'util']"
      ]
     },
     "execution_count": 370,
     "metadata": {},
     "output_type": "execute_result"
    }
   ],
   "source": [
    "import babel\n",
    "dir(babel)"
   ]
  },
  {
   "cell_type": "code",
   "execution_count": 372,
   "metadata": {},
   "outputs": [
    {
     "data": {
      "text/plain": [
       "[1, 2, 3, 4, 5]"
      ]
     },
     "execution_count": 372,
     "metadata": {},
     "output_type": "execute_result"
    }
   ],
   "source": [
    "list(b'\\x01\\x02\\x03\\x04\\x05')"
   ]
  },
  {
   "cell_type": "code",
   "execution_count": 374,
   "metadata": {},
   "outputs": [
    {
     "data": {
      "text/plain": [
       "b'\\x01\\x02\\x03\\x04\\x05'"
      ]
     },
     "execution_count": 374,
     "metadata": {},
     "output_type": "execute_result"
    }
   ],
   "source": [
    "bytes([1, 2, 3, 4, 5])"
   ]
  },
  {
   "cell_type": "code",
   "execution_count": 375,
   "metadata": {},
   "outputs": [
    {
     "data": {
      "text/plain": [
       "'Locale'"
      ]
     },
     "execution_count": 375,
     "metadata": {},
     "output_type": "execute_result"
    }
   ],
   "source": [
    "# converting byes in striunbg ad vice cersa\n",
    "resutl = map(lambda x: bytes(x, 'utf-8'),dir(babel))\n",
    "list(resutl)[0].decode('utf-8')"
   ]
  },
  {
   "cell_type": "code",
   "execution_count": 382,
   "metadata": {},
   "outputs": [
    {
     "name": "stdout",
     "output_type": "stream",
     "text": [
      "['ArrayType', '__doc__', '__loader__', '__name__', '__package__', '__spec__', '_array_reconstructor', 'array', 'typecodes']\n",
      "peedus\n"
     ]
    }
   ],
   "source": [
    "import array\n",
    "print(dir(array))\n",
    "                "
   ]
  },
  {
   "cell_type": "code",
   "execution_count": 383,
   "metadata": {},
   "outputs": [
    {
     "name": "stdout",
     "output_type": "stream",
     "text": [
      "peedus\n"
     ]
    }
   ],
   "source": [
    "name =\"sudeep\"\n",
    "\n",
    "#reversing a string\n",
    "# method 1\n",
    "print(name[::-1])"
   ]
  },
  {
   "cell_type": "code",
   "execution_count": 386,
   "metadata": {},
   "outputs": [
    {
     "name": "stdout",
     "output_type": "stream",
     "text": [
      "peedus\n"
     ]
    }
   ],
   "source": [
    "s1 = ''\n",
    "for char in name:\n",
    "    s1 = char + s1\n",
    "print(s1)"
   ]
  },
  {
   "cell_type": "code",
   "execution_count": 387,
   "metadata": {},
   "outputs": [
    {
     "name": "stdout",
     "output_type": "stream",
     "text": [
      "<reversed object at 0x01644590>\n"
     ]
    }
   ],
   "source": [
    "print(reversed(name))"
   ]
  },
  {
   "cell_type": "code",
   "execution_count": 391,
   "metadata": {},
   "outputs": [
    {
     "name": "stdout",
     "output_type": "stream",
     "text": [
      "object is iterable\n"
     ]
    }
   ],
   "source": [
    "from collections import Iterable\n",
    "if isinstance(reversed(name), Iterable):\n",
    "    print(\"object is iterable\")"
   ]
  },
  {
   "cell_type": "code",
   "execution_count": 392,
   "metadata": {},
   "outputs": [
    {
     "name": "stdout",
     "output_type": "stream",
     "text": [
      "p\n",
      "e\n",
      "e\n",
      "d\n",
      "u\n",
      "s\n"
     ]
    }
   ],
   "source": [
    "for c in reversed(name):\n",
    "    print(c)"
   ]
  },
  {
   "cell_type": "code",
   "execution_count": 396,
   "metadata": {},
   "outputs": [],
   "source": [
    "def rev(s):\n",
    "    if len(s) == 0:\n",
    "        return s\n",
    "    else:\n",
    "        return rev(s[1:]) + s[0]"
   ]
  },
  {
   "cell_type": "code",
   "execution_count": 395,
   "metadata": {},
   "outputs": [
    {
     "name": "stdout",
     "output_type": "stream",
     "text": [
      "peedus\n"
     ]
    }
   ],
   "source": [
    "print(rev(name))"
   ]
  },
  {
   "cell_type": "code",
   "execution_count": 416,
   "metadata": {},
   "outputs": [],
   "source": [
    "class Person(object):\n",
    "    def __init__(self):\n",
    "        self.name = \"sudeep\"\n",
    "        # __getattr__ is called for missing item\n",
    "    def __getattr__(self, item):\n",
    "         print(\"getter method call\")\n",
    "# Now lets see the __getattribute__ method. If you have __getattribute__ method in your class, \n",
    "# python invokes this method for every attribute regardless whether\n",
    "# it exists or not. So why we need __getattribute__ method? One good \n",
    "# reason is that you can prevent access to attributes and make them more\n",
    "# secure as shown in the following example.\n",
    "# __getattribute__ is called for every get request irrespective of whether attribute exists or not\n",
    "    def __getattribute__(self, item):\n",
    "        print(\"getter called for eery atrribute \" + item)\n",
    "        if item.startswith('cur'):\n",
    "            raise AttributeError\n",
    "        return object.__getattribute__(self,item)"
   ]
  },
  {
   "cell_type": "code",
   "execution_count": 417,
   "metadata": {},
   "outputs": [
    {
     "name": "stdout",
     "output_type": "stream",
     "text": [
      "getter called for eery atrribute name\n",
      "getter called for eery atrribute __dict__\n",
      "getter called for eery atrribute current\n",
      "getter method call\n"
     ]
    }
   ],
   "source": [
    "person = Person()\n",
    "type(person)\n",
    "person.name\n",
    "person.city =\"Ratlam\"\n",
    "person.__dict__\n",
    "person.current"
   ]
  },
  {
   "cell_type": "code",
   "execution_count": 421,
   "metadata": {},
   "outputs": [
    {
     "name": "stdout",
     "output_type": "stream",
     "text": [
      "1\n",
      "['one', 'two', 'three', 'four']\n",
      "[1, 2, 3, 4]\n"
     ]
    }
   ],
   "source": [
    "d = {\"one\": 1, \"two\": 2, \"three\": 3, \"four\": 4}\n",
    "print(d[\"one\"])\n",
    "print(list(d.keys()))\n",
    "print(list(d.values()))"
   ]
  },
  {
   "cell_type": "code",
   "execution_count": 423,
   "metadata": {},
   "outputs": [
    {
     "ename": "TypeError",
     "evalue": "'builtin_function_or_method' object is not reversible",
     "output_type": "error",
     "traceback": [
      "\u001b[1;31m---------------------------------------------------------------------------\u001b[0m",
      "\u001b[1;31mTypeError\u001b[0m                                 Traceback (most recent call last)",
      "\u001b[1;32m<ipython-input-423-f1859ad58e59>\u001b[0m in \u001b[0;36m<module>\u001b[1;34m\u001b[0m\n\u001b[1;32m----> 1\u001b[1;33m \u001b[0mprint\u001b[0m\u001b[1;33m(\u001b[0m\u001b[0mreversed\u001b[0m\u001b[1;33m(\u001b[0m\u001b[0md\u001b[0m\u001b[1;33m.\u001b[0m\u001b[0mitems\u001b[0m\u001b[1;33m)\u001b[0m\u001b[1;33m)\u001b[0m\u001b[1;33m\u001b[0m\u001b[0m\n\u001b[0m",
      "\u001b[1;31mTypeError\u001b[0m: 'builtin_function_or_method' object is not reversible"
     ]
    }
   ],
   "source": [
    "# print(reversed(d.items))"
   ]
  },
  {
   "cell_type": "code",
   "execution_count": 425,
   "metadata": {},
   "outputs": [
    {
     "data": {
      "text/plain": [
       "{0: 0, 2: 1, 1: 2, 4: 3, 3: 4}"
      ]
     },
     "execution_count": 425,
     "metadata": {},
     "output_type": "execute_result"
    }
   ],
   "source": [
    "# sorting python dictionary \n",
    "x = {1: 2, 3: 4, 4: 3, 2: 1, 0: 0}\n",
    "{k: v for k, v in sorted(x.items(), key=lambda item: item[1])}\n"
   ]
  },
  {
   "cell_type": "code",
   "execution_count": 428,
   "metadata": {},
   "outputs": [
    {
     "data": {
      "text/plain": [
       "OrderedDict([(0, 0), (2, 1), (1, 2), (4, 3), (3, 4)])"
      ]
     },
     "execution_count": 428,
     "metadata": {},
     "output_type": "execute_result"
    }
   ],
   "source": [
    "from operator import itemgetter\n",
    "from collections import OrderedDict\n",
    "sorted_x = OrderedDict(sorted(x.items(), key=itemgetter(1)))\n",
    "sorted_x"
   ]
  },
  {
   "cell_type": "code",
   "execution_count": 431,
   "metadata": {},
   "outputs": [],
   "source": [
    "def myfun(**kwrgs):\n",
    "    for key, value in kwrgs.items():\n",
    "        print(\"%s == %s\" %(key, value))\n",
    "        \n"
   ]
  },
  {
   "cell_type": "code",
   "execution_count": 433,
   "metadata": {},
   "outputs": [
    {
     "name": "stdout",
     "output_type": "stream",
     "text": [
      "first == Geeks\n",
      "mid == for\n",
      "last == Geeks\n"
     ]
    }
   ],
   "source": [
    "myfun(first ='Geeks', mid ='for', last='Geeks')     \n"
   ]
  },
  {
   "cell_type": "code",
   "execution_count": 434,
   "metadata": {},
   "outputs": [
    {
     "data": {
      "text/plain": [
       "{'first': OrderedDict([(0, 0), (2, 1), (1, 2), (4, 3), (3, 4)])}"
      ]
     },
     "execution_count": 434,
     "metadata": {},
     "output_type": "execute_result"
    }
   ],
   "source": [
    "{\"first\": sorted_x}"
   ]
  },
  {
   "cell_type": "code",
   "execution_count": 486,
   "metadata": {},
   "outputs": [],
   "source": [
    "from functools import total_ordering\n",
    "\n",
    "@total_ordering\n",
    "class Employee(object):\n",
    "    def __init__(self, name, age):\n",
    "        self.name = name\n",
    "        self.age =  age\n",
    "        \n",
    "    def __cmp__(self, other):\n",
    "        return cmp((self.name, self.age), (other.name, other.age))\n",
    "    \n",
    "    def __lt__(self, other):\n",
    "        return ((self.age) < (other.age))"
   ]
  },
  {
   "cell_type": "code",
   "execution_count": 487,
   "metadata": {},
   "outputs": [],
   "source": [
    "per1 = Employee(\"sudeep\" , 34)\n",
    "per2 = Employee(\"manasvi\", 9)"
   ]
  },
  {
   "cell_type": "code",
   "execution_count": 488,
   "metadata": {},
   "outputs": [],
   "source": [
    "type(per1)\n",
    "longlist = [per1, per2]"
   ]
  },
  {
   "cell_type": "code",
   "execution_count": 489,
   "metadata": {},
   "outputs": [
    {
     "data": {
      "text/plain": [
       "[<__main__.Employee at 0x1a63c30>, <__main__.Employee at 0x1a63290>]"
      ]
     },
     "execution_count": 489,
     "metadata": {},
     "output_type": "execute_result"
    }
   ],
   "source": [
    "longlist"
   ]
  },
  {
   "cell_type": "code",
   "execution_count": 490,
   "metadata": {},
   "outputs": [
    {
     "name": "stdout",
     "output_type": "stream",
     "text": [
      "None\n"
     ]
    }
   ],
   "source": [
    "print(longlist.sort())"
   ]
  },
  {
   "cell_type": "code",
   "execution_count": 491,
   "metadata": {},
   "outputs": [
    {
     "data": {
      "text/plain": [
       "'manasvi'"
      ]
     },
     "execution_count": 491,
     "metadata": {},
     "output_type": "execute_result"
    }
   ],
   "source": [
    "longlist[0].age\n",
    "longlist[0].name"
   ]
  },
  {
   "cell_type": "code",
   "execution_count": null,
   "metadata": {},
   "outputs": [],
   "source": []
  }
 ],
 "metadata": {
  "kernelspec": {
   "display_name": "Python 3",
   "language": "python",
   "name": "python3"
  },
  "language_info": {
   "codemirror_mode": {
    "name": "ipython",
    "version": 3
   },
   "file_extension": ".py",
   "mimetype": "text/x-python",
   "name": "python",
   "nbconvert_exporter": "python",
   "pygments_lexer": "ipython3",
   "version": "3.6.5"
  }
 },
 "nbformat": 4,
 "nbformat_minor": 2
}
