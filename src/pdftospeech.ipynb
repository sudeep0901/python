{
 "cells": [
  {
   "cell_type": "code",
   "execution_count": 2,
   "metadata": {},
   "outputs": [
    {
     "name": "stdout",
     "output_type": "stream",
     "text": [
      "Collecting PyPDF2\n",
      "  Downloading https://files.pythonhosted.org/packages/b4/01/68fcc0d43daf4c6bdbc6b33cc3f77bda531c86b174cac56ef0ffdb96faab/PyPDF2-1.26.0.tar.gz (77kB)\n",
      "Building wheels for collected packages: PyPDF2\n",
      "  Running setup.py bdist_wheel for PyPDF2: started\n",
      "  Running setup.py bdist_wheel for PyPDF2: finished with status 'done'\n",
      "  Stored in directory: C:\\Users\\sudpatel\\AppData\\Local\\pip\\Cache\\wheels\\53\\84\\19\\35bc977c8bf5f0c23a8a011aa958acd4da4bbd7a229315c1b7\n",
      "Successfully built PyPDF2\n",
      "Installing collected packages: PyPDF2\n",
      "Successfully installed PyPDF2-1.26.0\n"
     ]
    }
   ],
   "source": [
    "!pip install PyPDF2 \n",
    "import PyPDF2"
   ]
  },
  {
   "cell_type": "code",
   "execution_count": null,
   "metadata": {},
   "outputs": [],
   "source": [
    "pdfFileObj = open(\"D:\\\\Users\\\\sudpatel\\\\Desktop\\\\Python.pdf\", 'rb') \n",
    "filename=input('\\nFilename:')\n",
    "print(filename)\n",
    "import os\n",
    "import PyPDF2\n",
    "import io\n",
    "from PyPDF2 import PdfFileWriter, PdfFileReader\n",
    "\n",
    "fp = open(filename)\n",
    "pdfFile = PdfFileReader(fp)"
   ]
  },
  {
   "cell_type": "code",
   "execution_count": 10,
   "metadata": {},
   "outputs": [
    {
     "name": "stdout",
     "output_type": "stream",
     "text": [
      "<_io.BufferedReader name='D:\\\\Users\\\\sudpatel\\\\Desktop\\\\Python.pdf'>\n"
     ]
    }
   ],
   "source": [
    "# print(pdfFileObj)"
   ]
  },
  {
   "cell_type": "code",
   "execution_count": 8,
   "metadata": {},
   "outputs": [],
   "source": [
    "# pdfReader = PyPDF2.PdfFileReader(pdfFileObj)"
   ]
  },
  {
   "cell_type": "code",
   "execution_count": 19,
   "metadata": {},
   "outputs": [
    {
     "ename": "TypeError",
     "evalue": "a bytes-like object is required, not '_io.BufferedReader'",
     "output_type": "error",
     "traceback": [
      "\u001b[1;31m---------------------------------------------------------------------------\u001b[0m",
      "\u001b[1;31mTypeError\u001b[0m                                 Traceback (most recent call last)",
      "\u001b[1;32m<ipython-input-19-f453e079533c>\u001b[0m in \u001b[0;36m<module>\u001b[1;34m\u001b[0m\n\u001b[0;32m      1\u001b[0m \u001b[1;31m# pageObj = pdfReader.getPage(0)\u001b[0m\u001b[1;33m\u001b[0m\u001b[1;33m\u001b[0m\u001b[1;33m\u001b[0m\u001b[0m\n\u001b[1;32m----> 2\u001b[1;33m \u001b[0mreader\u001b[0m \u001b[1;33m=\u001b[0m \u001b[0mPdfFileReader\u001b[0m\u001b[1;33m(\u001b[0m\u001b[0mio\u001b[0m\u001b[1;33m.\u001b[0m\u001b[0mBytesIO\u001b[0m\u001b[1;33m(\u001b[0m\u001b[0mpdfFileObj\u001b[0m\u001b[1;33m)\u001b[0m\u001b[1;33m)\u001b[0m\u001b[1;33m\u001b[0m\u001b[1;33m\u001b[0m\u001b[0m\n\u001b[0m\u001b[0;32m      3\u001b[0m \u001b[1;32mif\u001b[0m \u001b[0mreader\u001b[0m\u001b[1;33m.\u001b[0m\u001b[0misEncrypted\u001b[0m\u001b[1;33m:\u001b[0m\u001b[1;33m\u001b[0m\u001b[1;33m\u001b[0m\u001b[0m\n\u001b[0;32m      4\u001b[0m     \u001b[1;32mtry\u001b[0m\u001b[1;33m:\u001b[0m\u001b[1;33m\u001b[0m\u001b[1;33m\u001b[0m\u001b[0m\n\u001b[0;32m      5\u001b[0m         \u001b[0mreader\u001b[0m\u001b[1;33m.\u001b[0m\u001b[0mdecrypt\u001b[0m\u001b[1;33m(\u001b[0m\u001b[1;34m\"\"\u001b[0m\u001b[1;33m)\u001b[0m\u001b[1;33m\u001b[0m\u001b[1;33m\u001b[0m\u001b[0m\n",
      "\u001b[1;31mTypeError\u001b[0m: a bytes-like object is required, not '_io.BufferedReader'"
     ]
    }
   ],
   "source": [
    "# pageObj = pdfReader.getPage(0)\n",
    "reader = PdfFileReader(io.BytesIO(pdfFileObj))\n",
    "if reader.isEncrypted:\n",
    "    try:\n",
    "        reader.decrypt(\"\")\n",
    "    except NotImplementedError:\n",
    "        # Decrypt the PDF with qpdf\n",
    "\n",
    "        temp_file = tempfile.NamedTemporaryFile(delete=False)\n",
    "        temp_file.write(document_data)\n",
    "        temp_file_name = temp_file.name\n",
    "        temp_file.close()\n",
    "\n",
    "        temp_dir = tempfile.TemporaryDirectory()\n",
    "\n",
    "        decrypted_filename = f\"{temp_file_name}.decrypted\"\n",
    "\n",
    "        command = f\"qpdf --password= --decrypt {temp_file_name} {decrypted_filename}\"\n",
    "\n",
    "        try:\n",
    "            status = subprocess.check_call(\n",
    "                command, shell=True, cwd=\"/tmp\", timeout=300\n",
    "            )\n",
    "\n",
    "            with open(decrypted_filename, \"rb\") as f:\n",
    "                decrypted_document_data = f.read()\n",
    "\n",
    "            reader = PdfFileReader(\n",
    "                io.BytesIO(decrypted_document_data)\n",
    "            )\n",
    "\n",
    "        finally:\n",
    "            os.unlink(temp_file_name)\n",
    "            try:\n",
    "                # decrypted_filename may or may not have been created\n",
    "                os.unlink(decrypted_filename)\n",
    "            except FileNotFoundError:\n",
    "                pass\n",
    "            temp_dir.cleanup()"
   ]
  },
  {
   "cell_type": "code",
   "execution_count": null,
   "metadata": {},
   "outputs": [],
   "source": [
    "# extracting text from page \n",
    "print(pageObj.extractText())"
   ]
  }
 ],
 "metadata": {
  "kernelspec": {
   "display_name": "Python 3",
   "language": "python",
   "name": "python3"
  },
  "language_info": {
   "codemirror_mode": {
    "name": "ipython",
    "version": 3
   },
   "file_extension": ".py",
   "mimetype": "text/x-python",
   "name": "python",
   "nbconvert_exporter": "python",
   "pygments_lexer": "ipython3",
   "version": "3.7.1"
  }
 },
 "nbformat": 4,
 "nbformat_minor": 2
}
