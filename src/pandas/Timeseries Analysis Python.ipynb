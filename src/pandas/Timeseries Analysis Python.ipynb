{
 "cells": [
  {
   "cell_type": "code",
   "execution_count": 3,
   "metadata": {},
   "outputs": [],
   "source": [
    "import pandas as pd\n",
    "from datetime import datetime"
   ]
  },
  {
   "cell_type": "code",
   "execution_count": 16,
   "metadata": {},
   "outputs": [
    {
     "name": "stdout",
     "output_type": "stream",
     "text": [
      "2020-04-02 14:13:36.036996 2020 2 4\n",
      "926 days, 15:45:00\n",
      "2011-01-19 00:00:00\n"
     ]
    }
   ],
   "source": [
    "now = datetime.now()\n",
    "print(now, now.year, now.day, now.month)\n",
    "delta = datetime(2011,1, 7) - datetime(2008, 6, 24, 8, 15)\n",
    "print(delta)\n",
    "from datetime import timedelta\n",
    "start = datetime(2011, 1, 7)\n",
    "newdate = start + timedelta(12)\n",
    "print(newdate)\n"
   ]
  },
  {
   "cell_type": "code",
   "execution_count": 19,
   "metadata": {},
   "outputs": [
    {
     "name": "stdout",
     "output_type": "stream",
     "text": [
      "2011-01-03\n"
     ]
    }
   ],
   "source": [
    "# Converting between string and datetime\n",
    "stamp = datetime(2011, 1, 3)\n",
    "str_stamp = stamp.strftime('%Y-%m-%d')\n",
    "print(str_stamp)"
   ]
  },
  {
   "cell_type": "code",
   "execution_count": null,
   "metadata": {},
   "outputs": [],
   "source": []
  }
 ],
 "metadata": {
  "kernelspec": {
   "display_name": "Python 3",
   "language": "python",
   "name": "python3"
  },
  "language_info": {
   "codemirror_mode": {
    "name": "ipython",
    "version": 3
   },
   "file_extension": ".py",
   "mimetype": "text/x-python",
   "name": "python",
   "nbconvert_exporter": "python",
   "pygments_lexer": "ipython3",
   "version": "3.6.5"
  }
 },
 "nbformat": 4,
 "nbformat_minor": 4
}
