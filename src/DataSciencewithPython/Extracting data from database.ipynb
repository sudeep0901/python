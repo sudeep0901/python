{
 "cells": [
  {
   "cell_type": "markdown",
   "metadata": {},
   "source": [
    "# Extracting data from database"
   ]
  },
  {
   "cell_type": "code",
   "execution_count": 73,
   "metadata": {},
   "outputs": [],
   "source": [
    "import sqlite3\n",
    "connection = sqlite3.connect(\"classroomDB\")\n",
    "connection.close()"
   ]
  },
  {
   "cell_type": "code",
   "execution_count": 74,
   "metadata": {},
   "outputs": [],
   "source": [
    "connection = sqlite3.connect(\"classroomDB\")\n",
    "cursor = connection.cursor()\n",
    "\n",
    "drop_table =\"DROP Table classroom\"\n",
    "cursor.execute(drop_table)\n",
    "connection.commit()\n",
    "\n",
    "create_table = \"\"\"create table classroom (student_id INTEGER PRIMARY KEY, name varchar(20), \n",
    "gender CHAR(1),\n",
    "physics_marks INTEGER,\n",
    "chemistry_marks INTEGER,\n",
    "mathematics_marks INTEGER\n",
    ");\"\"\"\n",
    "\n",
    "cursor.execute(create_table)\n",
    "connection.commit()\n"
   ]
  },
  {
   "cell_type": "code",
   "execution_count": 75,
   "metadata": {},
   "outputs": [],
   "source": [
    "connection.close()"
   ]
  },
  {
   "cell_type": "code",
   "execution_count": 76,
   "metadata": {},
   "outputs": [],
   "source": [
    "classroom_data = [(1, \"Raj\", \"M\", 70, 84, 92),\n",
    "                 (2, \"Sudeep\", \"M\", 70, 84, 92),\n",
    "                  (3, \"Renu\", \"F\", 70, 84, 92),\n",
    "                 (4, \"Manasvi\", \"F\", 70, 84, 92)]"
   ]
  },
  {
   "cell_type": "code",
   "execution_count": 77,
   "metadata": {},
   "outputs": [],
   "source": [
    "connection = sqlite3.connect(\"classroomDB\")\n",
    "cursor = connection.cursor()"
   ]
  },
  {
   "cell_type": "code",
   "execution_count": 78,
   "metadata": {},
   "outputs": [
    {
     "name": "stdout",
     "output_type": "stream",
     "text": [
      "insert into classroom\n",
      "    (student_id, name, gender, physics_marks, chemistry_marks, mathematics_marks) \n",
      "    VALUES(1, \"Raj\", \"M\", 70, 84, 92);\n",
      "insert into classroom\n",
      "    (student_id, name, gender, physics_marks, chemistry_marks, mathematics_marks) \n",
      "    VALUES(2, \"Sudeep\", \"M\", 70, 84, 92);\n",
      "insert into classroom\n",
      "    (student_id, name, gender, physics_marks, chemistry_marks, mathematics_marks) \n",
      "    VALUES(3, \"Renu\", \"F\", 70, 84, 92);\n",
      "insert into classroom\n",
      "    (student_id, name, gender, physics_marks, chemistry_marks, mathematics_marks) \n",
      "    VALUES(4, \"Manasvi\", \"F\", 70, 84, 92);\n"
     ]
    }
   ],
   "source": [
    "for student in classroom_data:\n",
    "    insert_statement = \"\"\"insert into classroom\n",
    "    (student_id, name, gender, physics_marks, chemistry_marks, mathematics_marks) \n",
    "    VALUES({0}, \"{1}\", \"{2}\", {3}, {4}, {5});\"\"\".format(student[0], student[1], student[2], student[3], student[4], student[5])\n",
    "    print(insert_statement)\n",
    "    cursor.execute(insert_statement)"
   ]
  },
  {
   "cell_type": "code",
   "execution_count": 79,
   "metadata": {},
   "outputs": [],
   "source": [
    "connection.commit()\n",
    "connection.close()"
   ]
  },
  {
   "cell_type": "code",
   "execution_count": 80,
   "metadata": {},
   "outputs": [],
   "source": [
    "connection = sqlite3.connect(\"classroomDB\")\n",
    "cursor = connection.cursor()"
   ]
  },
  {
   "cell_type": "code",
   "execution_count": 81,
   "metadata": {},
   "outputs": [
    {
     "name": "stdout",
     "output_type": "stream",
     "text": [
      "(1, 'Raj', 'M', 70, 84, 92)\n",
      "(2, 'Sudeep', 'M', 70, 84, 92)\n",
      "(3, 'Renu', 'F', 70, 84, 92)\n",
      "(4, 'Manasvi', 'F', 70, 84, 92)\n"
     ]
    }
   ],
   "source": [
    "query = \"Select * from classroom;\"\n",
    "cursor.execute(query)\n",
    "result = cursor.fetchall()\n",
    "for row in result:\n",
    "    print(row)"
   ]
  },
  {
   "cell_type": "code",
   "execution_count": 82,
   "metadata": {},
   "outputs": [],
   "source": [
    "connection.commit()\n",
    "connection.close()"
   ]
  },
  {
   "cell_type": "code",
   "execution_count": null,
   "metadata": {},
   "outputs": [],
   "source": []
  }
 ],
 "metadata": {
  "kernelspec": {
   "display_name": "Python 3",
   "language": "python",
   "name": "python3"
  },
  "language_info": {
   "codemirror_mode": {
    "name": "ipython",
    "version": 3
   },
   "file_extension": ".py",
   "mimetype": "text/x-python",
   "name": "python",
   "nbconvert_exporter": "python",
   "pygments_lexer": "ipython3",
   "version": "3.7.1"
  }
 },
 "nbformat": 4,
 "nbformat_minor": 2
}
